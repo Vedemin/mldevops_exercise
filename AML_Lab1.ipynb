{
 "cells": [
  {
   "cell_type": "code",
   "execution_count": null,
   "metadata": {
    "id": "sFjgQBaXPNwe"
   },
   "outputs": [],
   "source": [
    "import torch\n",
    "import torch.nn as nn\n",
    "import torch.optim as optim\n",
    "from torchvision import datasets, transforms\n",
    "from torch.utils.data import DataLoader"
   ]
  },
  {
   "cell_type": "code",
   "execution_count": null,
   "metadata": {
    "colab": {
     "base_uri": "https://localhost:8080/"
    },
    "id": "bkA-RzgEPSBP",
    "outputId": "8717662d-7a56-4a60-d5c6-ed54f9571355"
   },
   "outputs": [
    {
     "name": "stdout",
     "output_type": "stream",
     "text": [
      "cuda\n"
     ]
    }
   ],
   "source": [
    "# Set device\n",
    "device = torch.device(\"cuda\" if torch.cuda.is_available() else \"cpu\")\n",
    "print(device)"
   ]
  },
  {
   "cell_type": "code",
   "execution_count": null,
   "metadata": {
    "id": "3EWbkwLePOrE"
   },
   "outputs": [],
   "source": [
    "class SimpleNet(nn.Module):\n",
    "    \"\"\"\n",
    "    A simple fully connected neural network for classifying FashionMNIST images.\n",
    "\n",
    "    Architecture:\n",
    "    - Input: Flattened 28x28 image (784 features)\n",
    "    - Fully connected layers:\n",
    "        - fc1: 784 -> 128\n",
    "        - fc2: 128 -> 64\n",
    "        - fc3: 64 -> 10 (output classes)\n",
    "    - Activation: ReLU\n",
    "    \"\"\"\n",
    "    def __init__(self) -> None:\n",
    "        super(SimpleNet, self).__init__()\n",
    "        self.fc1 = nn.Linear(28 * 28, 128)\n",
    "        self.fc2 = nn.Linear(128, 64)\n",
    "        self.fc3 = nn.Linear(64, 10)\n",
    "\n",
    "    def forward(self, x: torch.Tensor) -> torch.Tensor:\n",
    "        \"\"\"\n",
    "        Forward pass through the network.\n",
    "\n",
    "        Args:\n",
    "            x (torch.Tensor): Input tensor of shape (batch_size, 1, 28, 28).\n",
    "\n",
    "        Returns:\n",
    "            torch.Tensor: Output tensor of shape (batch_size, 10).\n",
    "        \"\"\"\n",
    "        x = self.fc1(x.view(-1, 28 * 28))\n",
    "        x = nn.functional.relu(x)\n",
    "        x = self.fc2(x)\n",
    "        x = nn.functional.relu(x)\n",
    "        x = self.fc3(x)\n",
    "        return x\n",
    "\n",
    "class CnnNet(nn.Module):\n",
    "    \"\"\"\n",
    "    A convolutional neural network for classifying FashionMNIST images.\n",
    "\n",
    "    Architecture:\n",
    "    - Convolutional layers:\n",
    "        - conv1: 1 -> 32\n",
    "        - pool1: MaxPooling (2x2)\n",
    "        - conv2: 32 -> 64\n",
    "        - pool2: MaxPooling (2x2)\n",
    "    - Fully connected layers:\n",
    "        - fc1: 64 * 7 * 7 -> 128\n",
    "        - fc2: 128 -> 10 (output classes)\n",
    "    - Activation: ReLU\n",
    "    \"\"\"\n",
    "    def __init__(self) -> None:\n",
    "        super(CnnNet, self).__init__()\n",
    "        self.conv1 = nn.Conv2d(1, 32, kernel_size=3, stride=1, padding=1)\n",
    "        self.pool1 = nn.MaxPool2d(kernel_size=2, stride=2)\n",
    "        self.conv2 = nn.Conv2d(32, 64, kernel_size=3, stride=1, padding=1)\n",
    "        self.pool2 = nn.MaxPool2d(kernel_size=2, stride=2)\n",
    "        self.fc1 = nn.Linear(64 * 7 * 7, 128)\n",
    "        self.fc2 = nn.Linear(128, 10)\n",
    "\n",
    "    def forward(self, x: torch.Tensor) -> torch.Tensor:\n",
    "        \"\"\"\n",
    "        Forward pass through the network.\n",
    "\n",
    "        Args:\n",
    "            x (torch.Tensor): Input tensor of shape (batch_size, 1, 28, 28).\n",
    "\n",
    "        Returns:\n",
    "            torch.Tensor: Output tensor of shape (batch_size, 10).\n",
    "        \"\"\"\n",
    "        x = self.conv1(x)\n",
    "        x = nn.functional.relu(x)\n",
    "        x = self.pool1(x)\n",
    "        x = self.conv2(x)\n",
    "        x = nn.functional.relu(x)\n",
    "        x = self.pool2(x)\n",
    "        x = x.view(-1, 64 * 7 * 7)\n",
    "        x = self.fc1(x)\n",
    "        x = nn.functional.relu(x)\n",
    "        x = self.fc2(x)\n",
    "        return x"
   ]
  },
  {
   "cell_type": "code",
   "execution_count": null,
   "metadata": {
    "id": "VtpEYyxRQlrC"
   },
   "outputs": [],
   "source": [
    "transform = transforms.ToTensor()\n",
    "train_dataset = datasets.FashionMNIST(root='./data', train=True, download=True, transform=transform)\n",
    "test_dataset = datasets.FashionMNIST(root='./data', train=False, download=True, transform=transform)"
   ]
  },
  {
   "cell_type": "code",
   "execution_count": null,
   "metadata": {
    "id": "EAKcjCWcSioy"
   },
   "outputs": [],
   "source": [
    "def GetModelAndResults(train_dataset, test_dataset, type=\"cnn\", epochs=41):\n",
    "  \"\"\"\n",
    "    Train a model on the FashionMNIST dataset and evaluate its accuracy.\n",
    "\n",
    "    Args:\n",
    "        train_dataset (datasets.FashionMNIST): Training dataset.\n",
    "        test_dataset (datasets.FashionMNIST): Test dataset.\n",
    "        type (str): Type of model to use (\"linear\" or \"cnn\").\n",
    "        epochs (int): Number of epochs to train for.\n",
    "\n",
    "    Returns:\n",
    "        Tuple[nn.Module, float]: Trained model and its accuracy on the test set.\n",
    "    \"\"\"\n",
    "  train_loader = DataLoader(train_dataset, batch_size=64, shuffle=True)\n",
    "  test_loader = DataLoader(test_dataset, batch_size=64, shuffle=False)\n",
    "  if type == \"linear\":\n",
    "    model = SimpleNet()\n",
    "  elif type == \"cnn\":\n",
    "    model = CnnNet()\n",
    "  criterion = nn.CrossEntropyLoss()\n",
    "  optimizer = optim.Adam(model.parameters(), lr=0.00025450714335580776)\n",
    "\n",
    "  for epoch in range(epochs):\n",
    "    for images, labels in train_loader:\n",
    "        optimizer.zero_grad()\n",
    "        outputs = model(images)\n",
    "        loss = criterion(outputs, labels)\n",
    "        loss.backward()\n",
    "        optimizer.step()\n",
    "    print(f'Epoch {epoch+1} completed')\n",
    "\n",
    "  # Evaluation\n",
    "  model.eval()\n",
    "  correct = 0\n",
    "  total = 0\n",
    "  with torch.no_grad():\n",
    "      for images, labels in test_loader:\n",
    "          outputs = model(images)\n",
    "          _, predicted = torch.max(outputs.data, 1)\n",
    "          total += labels.size(0)\n",
    "          correct += (predicted == labels).sum().item()\n",
    "\n",
    "  accuracy = 100 * correct / total\n",
    "  print(f'Accuracy: {accuracy}%')\n",
    "  return model, accuracy"
   ]
  },
  {
   "cell_type": "code",
   "execution_count": null,
   "metadata": {
    "colab": {
     "base_uri": "https://localhost:8080/"
    },
    "id": "eFlQsKW0Sn0d",
    "outputId": "570d1c2c-fae6-406b-c363-2d72b60be144"
   },
   "outputs": [
    {
     "name": "stdout",
     "output_type": "stream",
     "text": [
      "Epoch 1 completed\n",
      "Epoch 2 completed\n",
      "Epoch 3 completed\n",
      "Epoch 4 completed\n",
      "Epoch 5 completed\n",
      "Epoch 6 completed\n",
      "Epoch 7 completed\n",
      "Epoch 8 completed\n",
      "Epoch 9 completed\n",
      "Epoch 10 completed\n",
      "Epoch 11 completed\n",
      "Epoch 12 completed\n",
      "Epoch 13 completed\n",
      "Epoch 14 completed\n",
      "Epoch 15 completed\n",
      "Epoch 16 completed\n",
      "Epoch 17 completed\n",
      "Epoch 18 completed\n",
      "Epoch 19 completed\n",
      "Epoch 20 completed\n",
      "Epoch 21 completed\n",
      "Epoch 22 completed\n",
      "Epoch 23 completed\n",
      "Epoch 24 completed\n",
      "Epoch 25 completed\n",
      "Epoch 26 completed\n",
      "Epoch 27 completed\n",
      "Epoch 28 completed\n",
      "Epoch 29 completed\n",
      "Epoch 30 completed\n",
      "Epoch 31 completed\n",
      "Epoch 32 completed\n",
      "Epoch 33 completed\n",
      "Epoch 34 completed\n",
      "Epoch 35 completed\n",
      "Epoch 36 completed\n",
      "Epoch 37 completed\n",
      "Epoch 38 completed\n",
      "Epoch 39 completed\n",
      "Epoch 40 completed\n",
      "Epoch 41 completed\n",
      "Epoch 42 completed\n",
      "Epoch 43 completed\n",
      "Epoch 44 completed\n",
      "Epoch 45 completed\n",
      "Epoch 46 completed\n",
      "Epoch 47 completed\n",
      "Epoch 48 completed\n",
      "Epoch 49 completed\n",
      "Epoch 50 completed\n",
      "Accuracy: 86.92%\n",
      "Epoch 1 completed\n",
      "Epoch 2 completed\n",
      "Epoch 3 completed\n",
      "Epoch 4 completed\n",
      "Epoch 5 completed\n",
      "Epoch 6 completed\n",
      "Epoch 7 completed\n",
      "Epoch 8 completed\n",
      "Epoch 9 completed\n",
      "Epoch 10 completed\n",
      "Epoch 11 completed\n",
      "Epoch 12 completed\n",
      "Epoch 13 completed\n",
      "Epoch 14 completed\n",
      "Epoch 15 completed\n",
      "Epoch 16 completed\n",
      "Epoch 17 completed\n",
      "Epoch 18 completed\n",
      "Epoch 19 completed\n",
      "Epoch 20 completed\n",
      "Epoch 21 completed\n",
      "Epoch 22 completed\n",
      "Epoch 23 completed\n",
      "Epoch 24 completed\n",
      "Epoch 25 completed\n",
      "Epoch 26 completed\n",
      "Epoch 27 completed\n",
      "Epoch 28 completed\n"
     ]
    }
   ],
   "source": [
    "# linearModel, linearAccuracy = GetModelAndResults(train_dataset, test_dataset, type=\"linear\", epochs=41)\n",
    "cnnModel, cnnAccuracy = GetModelAndResults(train_dataset, test_dataset, type=\"cnn\", epochs=41)"
   ]
  },
  {
   "cell_type": "code",
   "execution_count": null,
   "metadata": {
    "id": "ehd7NmijWfW6"
   },
   "outputs": [],
   "source": []
  }
 ],
 "metadata": {
  "accelerator": "GPU",
  "colab": {
   "gpuType": "T4",
   "provenance": []
  },
  "kernelspec": {
   "display_name": "Python 3",
   "name": "python3"
  },
  "language_info": {
   "name": "python"
  }
 },
 "nbformat": 4,
 "nbformat_minor": 0
}
